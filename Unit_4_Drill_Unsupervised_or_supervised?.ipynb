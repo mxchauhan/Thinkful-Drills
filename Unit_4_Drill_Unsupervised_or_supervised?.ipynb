{
  "nbformat": 4,
  "nbformat_minor": 0,
  "metadata": {
    "colab": {
      "name": "Unit 4 - Drill: Unsupervised or supervised?.ipynb",
      "version": "0.3.2",
      "provenance": [],
      "include_colab_link": true
    },
    "kernelspec": {
      "name": "python3",
      "display_name": "Python 3"
    }
  },
  "cells": [
    {
      "cell_type": "markdown",
      "metadata": {
        "id": "view-in-github",
        "colab_type": "text"
      },
      "source": [
        "<a href=\"https://colab.research.google.com/github/mxchauhan/Thinkful-Drills/blob/master/Unit_4_Drill_Unsupervised_or_supervised%3F.ipynb\" target=\"_parent\"><img src=\"https://colab.research.google.com/assets/colab-badge.svg\" alt=\"Open In Colab\"/></a>"
      ]
    },
    {
      "metadata": {
        "id": "hlF-eLcSfGS7",
        "colab_type": "text"
      },
      "cell_type": "markdown",
      "source": [
        "1) **Define the likelihood that an individual will contract a specific disease**: *Supervised Learning *- Whether or not the disease is contracted is the outcome variable.  We can use pre-defined variables and feature engineering in order to build a model which predicts whether the disease will be contratced.\n",
        "\n",
        "2) **Translate a set of images into variables for modeling**: *Unsupervised Learning *- We can use clustering in order to groups of similar images.  These groups will then define the variables for the model.\n",
        "\n",
        "3) **An ecommerce company wants to identify power users**: *Supervised Learning* - We can have an outcome variable such as the time a user spends on the ecommerce website or how many pages the user visits.  We can then use the variables to define a model which predict to predict a user's acitivty on the website.  *Unsupervised Learning* - We can use clusering to group together similar activity on the ecommerce website.  Those users who exhibit a range of activity may define the power users.\n",
        "\n",
        "4) **That same company wants to see shopping patterns in users**: *Unsupervised Learning* - We can use clustering to group together similar shopping patterns.\n",
        "\n",
        "5) **You want to reduce the number of variables inputting into your random forest model**: *Supervised Learning* - We can use PCA in order to reduce the number of variables.  We can use a training set in order to build a random forest model.  *Unsupervised Learning* - We can use clustering in order to create groups of variables.  We can then use PCA in order to reduce the number of variables.  Groups can have subgroups which will enable use to create decision trees in a random forest model."
      ]
    }
  ]
}