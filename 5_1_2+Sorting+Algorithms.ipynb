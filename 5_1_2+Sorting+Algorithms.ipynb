{
  "nbformat": 4,
  "nbformat_minor": 0,
  "metadata": {
    "colab": {
      "name": "5.1.2+Sorting+Algorithms.ipynb",
      "version": "0.3.2",
      "provenance": [],
      "collapsed_sections": [],
      "include_colab_link": true
    },
    "kernelspec": {
      "display_name": "Python 3",
      "language": "python",
      "name": "python3"
    }
  },
  "cells": [
    {
      "cell_type": "markdown",
      "metadata": {
        "id": "view-in-github",
        "colab_type": "text"
      },
      "source": [
        "<a href=\"https://colab.research.google.com/github/mxchauhan/Thinkful-Drills/blob/master/5_1_2%2BSorting%2BAlgorithms.ipynb\" target=\"_parent\"><img src=\"https://colab.research.google.com/assets/colab-badge.svg\" alt=\"Open In Colab\"/></a>"
      ]
    },
    {
      "metadata": {
        "id": "F0I5SzH91_-D",
        "colab_type": "code",
        "colab": {}
      },
      "cell_type": "code",
      "source": [
        "import time\n",
        "import random\n",
        "\n",
        "# Set seed.\n",
        "random.seed(a=100)\n",
        "\n",
        "# Create our default list.\n",
        "short_list = list(random.sample(range(1000000), 10))\n",
        "long_list = list(random.sample(range(1000000), 10000))"
      ],
      "execution_count": 0,
      "outputs": []
    },
    {
      "metadata": {
        "id": "uWpC1R231_-I",
        "colab_type": "text"
      },
      "cell_type": "markdown",
      "source": [
        "Now that we've covered some basic data structures, let's get into the things we can _do_ with those structures a little more. Sure, we've covered some basic operations like adding and deleting elements, but what about more complex processes?\n",
        "\n",
        "These processes are called algorithms. (Ok, they're actually all technically within the class of algorithms, but these are algorithms we really think of as algorithms, rather than just single steps).\n",
        "\n",
        "Algorithms lend themselves to a lot of comparisons to try to illustrate what they are. Some people call them recipes. Others call them directions. The key is this: it's the set of steps necessary for a computer to accomplish a specific task.\n",
        "\n",
        "But what kind of task?\n",
        "\n",
        "Really any kind of task you want. But the most common to discuss (and the most common to show up in interviews) is sorting. Now, there are many many kinds of sorting algorithms, a brief summary of which you can get from the [Sorting Algorithm wiki page](https://en.wikipedia.org/wiki/Sorting_algorithm).\n",
        "\n",
        "We won't cover all of them here, but we'll talk about a few of them to draw out differences in performance, efficiency, and style.\n",
        "\n",
        "As a note, above we're defining `short_list` and `long_list` which will be our default random lists. The short one will be used to validate that our algorithm works, and the long list to compare computation times across sorting strategies. Standardizing both will let us use them as the same baselines for each algorithm we explore. We're also only going to use lists here, but this does generalize more broadly."
      ]
    },
    {
      "metadata": {
        "id": "WXDI2gDy1_-J",
        "colab_type": "text"
      },
      "cell_type": "markdown",
      "source": [
        "## The Task of Sorting\n",
        "\n",
        "Just for completeness, let's briefly review what we mean by sorting. The most common example used to talk about methods of sorting is a hand of cards. When you get a hand of cards in a game you want to organize them is some kind of reasonable fashion. This makes it easier to know what cards are in your hand, and to find and access the cards you want.\n",
        "\n",
        "Now, there are many different ways to sort. Everyone kind of has their own method. Some will pick cards up one and a time and sequence them as they go. Others will move through their hand reorganizing card by card. You could even just randomly shuffle them again and again until they are sorted (though this would not be a very efficient approach). Different methods work best in different games and with different sized hands. These same general concepts apply to sorting lists.\n",
        "\n",
        "All of our lists will have a set of values, in our case integers ranging from 0 to 1,000,000. Our goal is to return this list ordered from smallest to largest in the least amount of time. In situations where there are duplicates, those duplicates will maintain their original order (this preserves _stability_ in our algorithm). Our goal is to sort the list as efficiently as possible. This will be _measured_ in runtime, but also _discussed_ in terms of steps."
      ]
    },
    {
      "metadata": {
        "id": "dakbKDGc1_-L",
        "colab_type": "text"
      },
      "cell_type": "markdown",
      "source": [
        "## Insertion Sort\n",
        "\n",
        "One of the simplest methods of sorting is the _insertion sort_. In this case we maintain two lists. First is our original list. Then we have a new list, which will be ordered. To add elements to that list, we take an element from our original list and then move through our new list, stopping and inserting it in the appropriate place. We do this by placing it in the position ahead of the first element in the new list that is larger than our chosen element. If none are larger then it is added to the end.\n",
        "\n",
        "This gives the nice property that our result will always be a sorted list which will grow to encompass the entire original set.\n",
        "\n",
        "Let's write it up quickly."
      ]
    },
    {
      "metadata": {
        "id": "ZB1mfzt41_-L",
        "colab_type": "code",
        "colab": {}
      },
      "cell_type": "code",
      "source": [
        "def insert_sort(input_list):\n",
        "    # Copy the input to a new list so we don't modify the original.\n",
        "    new_list = input_list\n",
        "    \n",
        "    # Iterate through the list.\n",
        "    for i in range(len(new_list)):\n",
        "        # Assign place to a new variable.\n",
        "        j = i\n",
        "        \n",
        "        # Move through the list as long as the previous position is larger\n",
        "        # than the current element of list.\n",
        "        while j > 0 and new_list[j - 1] > new_list[j]:\n",
        "            \n",
        "            # Swap places.\n",
        "            new_list[j - 1], new_list[j] = new_list[j], new_list[j - 1]\n",
        "            \n",
        "            # Reduce j by one.\n",
        "            j = j - 1\n",
        "    return new_list"
      ],
      "execution_count": 0,
      "outputs": []
    },
    {
      "metadata": {
        "id": "h_TMwE-81_-O",
        "colab_type": "text"
      },
      "cell_type": "markdown",
      "source": [
        "You can think about insertion sort as being like organizing a poker hand from left to right, where you scan your hand from left to right, picking up out of place cards when you see them and moving them to the left as far as they need to go. Here is an visualization from Wikipedia:\n",
        "\n",
        "![Animated insertion sort visualization](https://upload.wikimedia.org/wikipedia/commons/0/0f/Insertion-sort-example-300px.gif)\n",
        "\n",
        "If you want to play around with insertion sort or other algorithms visually, check out [VisuAlgo](https://visualgo.net/en/sorting). Feel free to escape out of the slides and tinker directly with the visualizations.\n",
        "\n",
        "The Python function above implements this algorithm and makes each individual _step_ clear. Lets apply it to our short and long lists."
      ]
    },
    {
      "metadata": {
        "id": "QAaqsSBQ1_-P",
        "colab_type": "code",
        "colab": {
          "base_uri": "https://localhost:8080/",
          "height": 51
        },
        "outputId": "fe4c85c3-2b49-410c-cde3-5991f7bc3a84"
      },
      "cell_type": "code",
      "source": [
        "# Start the timer.\n",
        "start_time = time.time()\n",
        "\n",
        "# Run our insertion sort.\n",
        "insert_sort(short_list)\n",
        "\n",
        "# Print time to show runtime.\n",
        "print(\"--- %s seconds ---\" % (time.time() - start_time))\n",
        "print(insert_sort(short_list))"
      ],
      "execution_count": 10,
      "outputs": [
        {
          "output_type": "stream",
          "text": [
            "--- 9.775161743164062e-05 seconds ---\n",
            "[152745, 183236, 366725, 412125, 477025, 481850, 739784, 767514, 808225, 997948]\n"
          ],
          "name": "stdout"
        }
      ]
    },
    {
      "metadata": {
        "id": "XThsqsmP1_-X",
        "colab_type": "code",
        "colab": {
          "base_uri": "https://localhost:8080/",
          "height": 34
        },
        "outputId": "fe5c7a67-03d5-4ab3-b371-abc329f65d21"
      },
      "cell_type": "code",
      "source": [
        "# Test on the long list.\n",
        "start_time = time.time()\n",
        "\n",
        "insert_sort(long_list)\n",
        "\n",
        "print(\"--- %s seconds ---\" % (time.time() - start_time))"
      ],
      "execution_count": 11,
      "outputs": [
        {
          "output_type": "stream",
          "text": [
            "--- 0.0028405189514160156 seconds ---\n"
          ],
          "name": "stdout"
        }
      ]
    },
    {
      "metadata": {
        "id": "9kaitwKV1_-b",
        "colab_type": "text"
      },
      "cell_type": "markdown",
      "source": [
        "So that seems to work! We've created a resonable insertion sort that works through the list piecewise and inserts each element in the appropriate spot.\n",
        "\n",
        "However this also revealed something else important about insertion sort: it doesn't scale well. We noticed that it took 11 seconds on the long list. That's an unacceptably long amount of time. This is because its best case time is very different from its worst case.\n",
        "\n",
        "If the list is already ordered this kind of sort takes n steps to complete. It simply iterates through the list. However, if your list is perfectly out of order it can take asymptotically n-squared steps (in big-O notation, $\\mathcal{O}(n^2)$) as we have $n$ elements and our algorithm will potentially look through each element in the sorted list before inserting the element. This means computation can get more intensive quite quickly, as evidenced by the runtime of our long list. Think about what a square function looks like if you graph it. It grows at an ever increasing rate. The [wiki for Insertion Sort](https://en.wikipedia.org/wiki/Insertion_sort#Best.2C_worst.2C_and_average_cases) includes this lovely animation showing this method and the challenge that comes from it.\n",
        "\n",
        "![Insertion sort](https://upload.wikimedia.org/wikipedia/commons/4/42/Insertion_sort.gif)\n",
        "\n",
        "So, how could we do better?"
      ]
    },
    {
      "metadata": {
        "id": "szI8bxu61_-c",
        "colab_type": "text"
      },
      "cell_type": "markdown",
      "source": [
        "## Merge Sort\n",
        "\n",
        "One method for improving this is to use a _merge sort_. Merge sort takes advantage of fact that merging two small sorted lists into one large sorted list is fast. Merge sort starts by breaking our large list into single element sublists. It's a bit wonky, but if you think about it these single-element lists are each inherently ordered. Then we merge those single-element lists together into ordered pairs, reading from a single end to preserve their order. We repeat this process and arrive ultimately at a sorted list.\n",
        "\n",
        "This will look much more complex in code but the concept is easier to understand with an example. Let's try it first with a very basic manual walkthrough.\n",
        "\n",
        "If our list were `[3, 7, 2, 4]` The algorithm would first break it up into four pieces `[3], [7], [2], [4]`. Then we could split that into two groups and merge each by order, resulting in `[3, 7], [2, 4]`. Finally we bring those two lists together to get `[2, 3, 4, 7]`. It's more efficient because in any merge we only have to look at the leading entry from each prior list. For that final merge in the first step we're only comparing 3 to 2 and 4 to 7, since we already know 4 and 7 are larger than their prior entries.\n",
        "\n",
        "Why does that give us an advantage? It's because we won't have to handle large unordered data. We always know what's next in any merge is from one of two places (the next element in each of our two lists we're merging). It's over really long lists that this advantage becomes decidedly worthwhile. This technique is called _divide and conquer_. Our insertion sort tries to solve the whole problem in one piece. Sometimes that's great. But in the case of sorting a long list, that process is inefficient. By breaking our task into smaller ones, in this case sorting small lists and then merging those ordered lists together, we make significant gains in efficiency. Here's a bigger example.\n",
        "\n",
        "![Animated merge sort](https://upload.wikimedia.org/wikipedia/commons/c/cc/Merge-sort-example-300px.gif)\n",
        "\n",
        "This tradeoff is a common feature of algorithms. It's often easiest to write something that tries to solve the problem all in one go. The logic is often easier to visualize. However, thinking about how to break one big problem into several smaller problems is a common way to gain efficiency.\n",
        "\n",
        "Here's what the code for a merge sort looks like (with `merge` written as a separate function):"
      ]
    },
    {
      "metadata": {
        "id": "A1kyuhcS1_-d",
        "colab_type": "code",
        "colab": {}
      },
      "cell_type": "code",
      "source": [
        "# Our merge function takes two ordered lists and merges them together into one ordered list\n",
        "\n",
        "def merge(a, b):\n",
        "    # Check for empty list.\n",
        "    if len(a) == 0 or len(b) == 0:\n",
        "        return a or b\n",
        "    \n",
        "    # Start with an empty result.\n",
        "    result = []\n",
        "    # Track two indexes.\n",
        "    i, j = 0, 0\n",
        "    # Set a while condition to ensure we iterate only for the length of our two lists.\n",
        "    while (len(result) < len(a) + len(b)):\n",
        "        # If a's next element is lower append that element to our result.\n",
        "        if a[i] < b[j]:\n",
        "            result.append(a[i])\n",
        "            i += 1\n",
        "        # Otherwise append b's next element.\n",
        "        else:\n",
        "            result.append(b[j])\n",
        "            j += 1\n",
        "        # When one list is empty just append everything from the other list and stop.\n",
        "        if i == len(a) or j == len(b):\n",
        "            result.extend(a[i:] or b[j:])\n",
        "            break \n",
        "\n",
        "    return result\n",
        "\n",
        "def merge_sort(lst):\n",
        "    if len(lst) < 2:\n",
        "        return lst\n",
        "\n",
        "    mid = int(len(lst) / 2)\n",
        "    a = merge_sort(lst[:mid])\n",
        "    b = merge_sort(lst[mid:])\n",
        "\n",
        "    return merge(a, b)\n"
      ],
      "execution_count": 0,
      "outputs": []
    },
    {
      "metadata": {
        "id": "gCvKD_z11_-g",
        "colab_type": "code",
        "colab": {
          "base_uri": "https://localhost:8080/",
          "height": 51
        },
        "outputId": "761b85f6-a931-4a52-c4a0-09854b4a8f99"
      },
      "cell_type": "code",
      "source": [
        "# Test on short list.\n",
        "# Start timer.\n",
        "start_time = time.time()\n",
        "\n",
        "# Run our insertion sort.\n",
        "merge_sort(short_list)\n",
        "\n",
        "# Print time to show runtime.\n",
        "print(\"--- %s seconds ---\" % (time.time() - start_time))\n",
        "print(insert_sort(short_list))"
      ],
      "execution_count": 13,
      "outputs": [
        {
          "output_type": "stream",
          "text": [
            "--- 9.226799011230469e-05 seconds ---\n",
            "[152745, 183236, 366725, 412125, 477025, 481850, 739784, 767514, 808225, 997948]\n"
          ],
          "name": "stdout"
        }
      ]
    },
    {
      "metadata": {
        "id": "gwp8B5-o1_-k",
        "colab_type": "code",
        "colab": {
          "base_uri": "https://localhost:8080/",
          "height": 34
        },
        "outputId": "0f001be4-388b-4abc-dd22-404e5cbe2f23"
      },
      "cell_type": "code",
      "source": [
        "# Test on long list.\n",
        "start_time = time.time()\n",
        "\n",
        "merge_sort(long_list)\n",
        "\n",
        "print(\"--- %s seconds ---\" % (time.time() - start_time))"
      ],
      "execution_count": 14,
      "outputs": [
        {
          "output_type": "stream",
          "text": [
            "--- 0.06822586059570312 seconds ---\n"
          ],
          "name": "stdout"
        }
      ]
    },
    {
      "metadata": {
        "id": "6DYyBQcL1_-n",
        "colab_type": "text"
      },
      "cell_type": "markdown",
      "source": [
        "Now, this algorithm is implemented _recursively_, meaning the function nests within itself, running multiple times until a stopping condition is met. This is how we create multiple layers of lists to merge together. Recursion, again, is a common feature of algorithms. It's a way of nesting an algorithm within itself so that it keeps going until the problem is actually solved and you don't have to specify how many times something should run.\n",
        "\n",
        "It is also much, much faster, a tenth of a second instead of 11 seconds, and less complex: $\\mathcal{O}(n\\log{}n)$ instead of $\\mathcal{O}(n^2))$.\n",
        "\n",
        "This break-down-and-merge method means that when combining shorter lists into longer lists, we can use the knowledge that the shorter lists are already sorted to cut down on the number of comparisons we need to make.  As a result, we don't have to potentially look through all other sorted elements in order to place a single element of our list. It no longer scales quadtratically, but in quasilinear time."
      ]
    },
    {
      "metadata": {
        "id": "ftVFKPVE1_-o",
        "colab_type": "text"
      },
      "cell_type": "markdown",
      "source": [
        "## The Default Sort Method\n",
        "\n",
        "Now, all of this is fine and dandy, but it's not the only way to sort things.\n",
        "\n",
        "We also have a simpler way. Kind of a cheating way. Python lists have a built in `.sort()` method and there's also the built-in `sorted()` function. Let's see how that performs."
      ]
    },
    {
      "metadata": {
        "id": "EX1TXt_z1_-o",
        "colab_type": "code",
        "colab": {
          "base_uri": "https://localhost:8080/",
          "height": 34
        },
        "outputId": "73d75414-650f-4852-ad46-0fd030ec79d2"
      },
      "cell_type": "code",
      "source": [
        "# Start Timer\n",
        "start_time = time.time()\n",
        "\n",
        "# Sort the default list. Note that .sort() will sort in place, which would alter default_list.\n",
        "sorted(long_list)\n",
        "\n",
        "# Print time to show runtime\n",
        "print(\"--- %s seconds ---\" % (time.time() - start_time))"
      ],
      "execution_count": 15,
      "outputs": [
        {
          "output_type": "stream",
          "text": [
            "--- 0.0006268024444580078 seconds ---\n"
          ],
          "name": "stdout"
        }
      ]
    },
    {
      "metadata": {
        "id": "SKgXnklm1_-s",
        "colab_type": "text"
      },
      "cell_type": "markdown",
      "source": [
        "Now that is much faster than either of ours, so for most cases it's worth just using the built ins. The reasons for this efficiency are many and partially have to do with the fact that it isn't actually written in Python, but Cython, which allows it to run in a version of C from Python that is much faster than generic Python.\n",
        "\n",
        "So why are you learning slow ways to sort that take a lot of work to implement? It's worth understanding how these algorithms function at their most basic level and how we can work with them to build our own bespoke tools. The more complex algorithms you'll implement later will rely on these fundamentals."
      ]
    },
    {
      "metadata": {
        "id": "UcsNig-h1_-t",
        "colab_type": "text"
      },
      "cell_type": "markdown",
      "source": [
        "## DRILL\n",
        "\n",
        "Return to the [sorting wiki page](https://en.wikipedia.org/wiki/Sorting_algorithm) and pick an algorithm we haven't covered here (you probably want to pick one of the simpler ones, but it's up to you. Implement it in Python below and see how it compares in sorting our short and long lists. You should be able to easily find guides on how to implement any of the algorithms. Can you figure out why it runs faster or slower than our other sorting algorithms?\n",
        "\n",
        "Some good sorts to try are:\n",
        "* Heap Sort\n",
        "* Selection Sort\n",
        "* QuickSort"
      ]
    },
    {
      "metadata": {
        "id": "-Ft3rhoP1_-v",
        "colab_type": "code",
        "colab": {}
      },
      "cell_type": "code",
      "source": [
        "# Your Code Here:\n",
        "\n",
        "def left_child_index(parent_index):\n",
        "    return parent_index * 2 + 1\n",
        "\n",
        "def right_child_index(parent_index):\n",
        "    return parent_index * 2 + 2\n",
        "\n",
        "def bubble_down(heap, heap_length, index):\n",
        "    '''\n",
        "    Restore a max heap where the value at index may\n",
        "    be out of place (i.e.: smaller than its children).\n",
        "    '''\n",
        "    while index < heap_length:\n",
        "        left_index  = left_child_index(index)\n",
        "        right_index = right_child_index(index)\n",
        "\n",
        "        # If we don't have any child nodes, we can stop\n",
        "        if left_index >= heap_length:\n",
        "            break\n",
        "\n",
        "        # Find the larger of the two children\n",
        "        larger_child_index = left_index\n",
        "        if right_index < heap_length and heap[left_index] < heap[right_index]:\n",
        "            larger_child_index = right_index\n",
        "\n",
        "        # Are we larger than our children?\n",
        "        # If so, swap with the larger child.\n",
        "        if heap[index] < heap[larger_child_index]:\n",
        "            heap[index], heap[larger_child_index] = heap[larger_child_index], heap[index]\n",
        "\n",
        "            # Continue bubbling down\n",
        "            index = larger_child_index\n",
        "        else:\n",
        "            \n",
        "            # We're larger than both children, so we're done\n",
        "            break\n",
        "\n",
        "def remove_max(the_heap, heap_length):\n",
        "    '''\n",
        "    Remove and return the largest item from a heap.\n",
        "    Updates the heap in-place, maintaining validity.\n",
        "    '''\n",
        "    # Grab the largest value from the root\n",
        "    max_value = the_heap[0]\n",
        "\n",
        "    # Move the last item in the heap into the root position\n",
        "    the_heap[0] = the_heap[heap_length - 1]\n",
        "\n",
        "    # And bubble down from the root to restore the heap\n",
        "    bubble_down(the_heap, heap_length - 1, 0)\n",
        "\n",
        "    return max_value\n",
        "\n",
        "def heapify(the_list):\n",
        "\n",
        "    # Bubble down from the leaf nodes up to the top\n",
        "    for index in range(len(the_list) - 1, -1, -1):\n",
        "        bubble_down(the_list, len(the_list), index)\n",
        "\n",
        "def heap_sort(the_list):\n",
        "    \n",
        "    heapify(the_list)\n",
        "\n",
        "    heap_size = len(the_list)\n",
        "\n",
        "    while heap_size > 0:\n",
        "\n",
        "        # Remove the largest item and update the heap size\n",
        "        largest_value = remove_max(the_list, heap_size)\n",
        "        heap_size -= 1\n",
        "\n",
        "        # Store the removed value at the end of the list, after\n",
        "        # the entries used by the heap\n",
        "        the_list[heap_size] = largest_value"
      ],
      "execution_count": 0,
      "outputs": []
    },
    {
      "metadata": {
        "id": "zfwPNQOq598I",
        "colab_type": "code",
        "colab": {
          "base_uri": "https://localhost:8080/",
          "height": 51
        },
        "outputId": "56d3314b-77a0-4783-8328-a2087152b7b0"
      },
      "cell_type": "code",
      "source": [
        "# Test on short list.\n",
        "# Start timer.\n",
        "start_time = time.time()\n",
        "\n",
        "# Run our heap sort.\n",
        "heap_sort(short_list)\n",
        "\n",
        "# Print time to show runtime.\n",
        "print(\"--- %s seconds ---\" % (time.time() - start_time))\n",
        "print(insert_sort(short_list))"
      ],
      "execution_count": 25,
      "outputs": [
        {
          "output_type": "stream",
          "text": [
            "--- 0.00010848045349121094 seconds ---\n",
            "[152745, 183236, 366725, 412125, 477025, 481850, 739784, 767514, 808225, 997948]\n"
          ],
          "name": "stdout"
        }
      ]
    },
    {
      "metadata": {
        "id": "ZviC14cz68y7",
        "colab_type": "code",
        "colab": {
          "base_uri": "https://localhost:8080/",
          "height": 51
        },
        "outputId": "79446bda-11fc-4d5e-cba5-af47346a69ef"
      },
      "cell_type": "code",
      "source": [
        "# Test on short list.\n",
        "# Start timer.\n",
        "start_time = time.time()\n",
        "\n",
        "# Run our heap sort.\n",
        "heap_sort(long_list)\n",
        "\n",
        "# Print time to show runtime.\n",
        "print(\"--- %s seconds ---\" % (time.time() - start_time))\n",
        "print(insert_sort(short_list))"
      ],
      "execution_count": 26,
      "outputs": [
        {
          "output_type": "stream",
          "text": [
            "--- 0.11503362655639648 seconds ---\n",
            "[152745, 183236, 366725, 412125, 477025, 481850, 739784, 767514, 808225, 997948]\n"
          ],
          "name": "stdout"
        }
      ]
    },
    {
      "metadata": {
        "id": "e7OQQnIS7ZG3",
        "colab_type": "code",
        "colab": {}
      },
      "cell_type": "code",
      "source": [
        "def partition(the_list, start, end):\n",
        "\n",
        "    pivot = the_list[end]\n",
        "\n",
        "    left_index  = start\n",
        "    right_index = end - 1\n",
        "\n",
        "    while left_index <= right_index:\n",
        "\n",
        "        # Walk until we find something on the left side that belongs\n",
        "        # on the right (less than the pivot).\n",
        "        while left_index <= end and the_list[left_index] < pivot:\n",
        "            left_index += 1\n",
        "\n",
        "        # Walk until we find something on the right side that belongs\n",
        "        # on the left (greater than or equal to the pivot).\n",
        "        while right_index >= start and the_list[right_index] >= pivot:\n",
        "            right_index -= 1\n",
        "\n",
        "        # Swap the items at left_index and right_index, moving the element\n",
        "        # that's smaller than the pivot to the left half and the element\n",
        "        # that's larger than the pivot to the right half.\n",
        "        if left_index < right_index:\n",
        "            the_list[right_index], the_list[left_index] =\\\n",
        "                the_list[left_index], the_list[right_index]\n",
        "\n",
        "        # Unless we've looked at all the elements in the list and are\n",
        "        # done partitioning. In that case, move the pivot element into\n",
        "        # its final position.\n",
        "        else:\n",
        "            the_list[end], the_list[left_index] = the_list[left_index], the_list[end]\n",
        "\n",
        "    return left_index\n",
        "\n",
        "def quicksort_sublist(the_list, start, end):\n",
        "\n",
        "    # Base case: list with 0 or 1 elements.\n",
        "    if (start >= end):\n",
        "        return\n",
        "\n",
        "    # Divide the list into two smaller sublists\n",
        "    pivot = partition(the_list, start, end)\n",
        "\n",
        "    # Recursively sort each sublist\n",
        "    quicksort_sublist(the_list, start, pivot - 1)\n",
        "    quicksort_sublist(the_list, pivot + 1, end)\n",
        "\n",
        "def quick_sort(the_list):\n",
        "    quicksort_sublist(the_list, 0, len(the_list) - 1)"
      ],
      "execution_count": 0,
      "outputs": []
    },
    {
      "metadata": {
        "id": "Iyuc_s7V7bnt",
        "colab_type": "code",
        "colab": {
          "base_uri": "https://localhost:8080/",
          "height": 51
        },
        "outputId": "e4f2d6fb-e7d7-4453-de7d-02101ba3ba81"
      },
      "cell_type": "code",
      "source": [
        "# Test on short list.\n",
        "# Start timer.\n",
        "start_time = time.time()\n",
        "\n",
        "# Run our quick sort.\n",
        "quick_sort(short_list)\n",
        "\n",
        "# Print time to show runtime.\n",
        "print(\"--- %s seconds ---\" % (time.time() - start_time))\n",
        "print(insert_sort(short_list))"
      ],
      "execution_count": 29,
      "outputs": [
        {
          "output_type": "stream",
          "text": [
            "--- 0.00010848045349121094 seconds ---\n",
            "[152745, 183236, 366725, 412125, 477025, 481850, 739784, 767514, 808225, 997948]\n"
          ],
          "name": "stdout"
        }
      ]
    },
    {
      "metadata": {
        "id": "Nn7CI0A_7lQE",
        "colab_type": "code",
        "colab": {
          "base_uri": "https://localhost:8080/",
          "height": 588
        },
        "outputId": "33c7ac6e-7b95-4933-9416-41955c018e91"
      },
      "cell_type": "code",
      "source": [
        "# Test on short list.\n",
        "# Start timer.\n",
        "start_time = time.time()\n",
        "\n",
        "# Run our quick sort.\n",
        "quick_sort(long_list)\n",
        "\n",
        "# Print time to show runtime.\n",
        "print(\"--- %s seconds ---\" % (time.time() - start_time))\n",
        "print(insert_sort(short_list))"
      ],
      "execution_count": 31,
      "outputs": [
        {
          "output_type": "error",
          "ename": "RecursionError",
          "evalue": "ignored",
          "traceback": [
            "\u001b[0;31m---------------------------------------------------------------------------\u001b[0m",
            "\u001b[0;31mRecursionError\u001b[0m                            Traceback (most recent call last)",
            "\u001b[0;32m<ipython-input-31-3545f83bf48d>\u001b[0m in \u001b[0;36m<module>\u001b[0;34m()\u001b[0m\n\u001b[1;32m      2\u001b[0m \u001b[0;34m\u001b[0m\u001b[0m\n\u001b[1;32m      3\u001b[0m \u001b[0;31m# Run our heap sort.\u001b[0m\u001b[0;34m\u001b[0m\u001b[0;34m\u001b[0m\u001b[0;34m\u001b[0m\u001b[0m\n\u001b[0;32m----> 4\u001b[0;31m \u001b[0mquick_sort\u001b[0m\u001b[0;34m(\u001b[0m\u001b[0mlong_list\u001b[0m\u001b[0;34m)\u001b[0m\u001b[0;34m\u001b[0m\u001b[0;34m\u001b[0m\u001b[0m\n\u001b[0m\u001b[1;32m      5\u001b[0m \u001b[0;34m\u001b[0m\u001b[0m\n\u001b[1;32m      6\u001b[0m \u001b[0;31m# Print time to show runtime.\u001b[0m\u001b[0;34m\u001b[0m\u001b[0;34m\u001b[0m\u001b[0;34m\u001b[0m\u001b[0m\n",
            "\u001b[0;32m<ipython-input-28-36b02ae61ce5>\u001b[0m in \u001b[0;36mquick_sort\u001b[0;34m(the_list)\u001b[0m\n\u001b[1;32m     46\u001b[0m \u001b[0;34m\u001b[0m\u001b[0m\n\u001b[1;32m     47\u001b[0m \u001b[0;32mdef\u001b[0m \u001b[0mquick_sort\u001b[0m\u001b[0;34m(\u001b[0m\u001b[0mthe_list\u001b[0m\u001b[0;34m)\u001b[0m\u001b[0;34m:\u001b[0m\u001b[0;34m\u001b[0m\u001b[0;34m\u001b[0m\u001b[0m\n\u001b[0;32m---> 48\u001b[0;31m     \u001b[0mquicksort_sublist\u001b[0m\u001b[0;34m(\u001b[0m\u001b[0mthe_list\u001b[0m\u001b[0;34m,\u001b[0m \u001b[0;36m0\u001b[0m\u001b[0;34m,\u001b[0m \u001b[0mlen\u001b[0m\u001b[0;34m(\u001b[0m\u001b[0mthe_list\u001b[0m\u001b[0;34m)\u001b[0m \u001b[0;34m-\u001b[0m \u001b[0;36m1\u001b[0m\u001b[0;34m)\u001b[0m\u001b[0;34m\u001b[0m\u001b[0;34m\u001b[0m\u001b[0m\n\u001b[0m",
            "\u001b[0;32m<ipython-input-28-36b02ae61ce5>\u001b[0m in \u001b[0;36mquicksort_sublist\u001b[0;34m(the_list, start, end)\u001b[0m\n\u001b[1;32m     42\u001b[0m \u001b[0;34m\u001b[0m\u001b[0m\n\u001b[1;32m     43\u001b[0m     \u001b[0;31m# Recursively sort each sublist\u001b[0m\u001b[0;34m\u001b[0m\u001b[0;34m\u001b[0m\u001b[0;34m\u001b[0m\u001b[0m\n\u001b[0;32m---> 44\u001b[0;31m     \u001b[0mquicksort_sublist\u001b[0m\u001b[0;34m(\u001b[0m\u001b[0mthe_list\u001b[0m\u001b[0;34m,\u001b[0m \u001b[0mstart\u001b[0m\u001b[0;34m,\u001b[0m \u001b[0mpivot\u001b[0m \u001b[0;34m-\u001b[0m \u001b[0;36m1\u001b[0m\u001b[0;34m)\u001b[0m\u001b[0;34m\u001b[0m\u001b[0;34m\u001b[0m\u001b[0m\n\u001b[0m\u001b[1;32m     45\u001b[0m     \u001b[0mquicksort_sublist\u001b[0m\u001b[0;34m(\u001b[0m\u001b[0mthe_list\u001b[0m\u001b[0;34m,\u001b[0m \u001b[0mpivot\u001b[0m \u001b[0;34m+\u001b[0m \u001b[0;36m1\u001b[0m\u001b[0;34m,\u001b[0m \u001b[0mend\u001b[0m\u001b[0;34m)\u001b[0m\u001b[0;34m\u001b[0m\u001b[0;34m\u001b[0m\u001b[0m\n\u001b[1;32m     46\u001b[0m \u001b[0;34m\u001b[0m\u001b[0m\n",
            "... last 1 frames repeated, from the frame below ...\n",
            "\u001b[0;32m<ipython-input-28-36b02ae61ce5>\u001b[0m in \u001b[0;36mquicksort_sublist\u001b[0;34m(the_list, start, end)\u001b[0m\n\u001b[1;32m     42\u001b[0m \u001b[0;34m\u001b[0m\u001b[0m\n\u001b[1;32m     43\u001b[0m     \u001b[0;31m# Recursively sort each sublist\u001b[0m\u001b[0;34m\u001b[0m\u001b[0;34m\u001b[0m\u001b[0;34m\u001b[0m\u001b[0m\n\u001b[0;32m---> 44\u001b[0;31m     \u001b[0mquicksort_sublist\u001b[0m\u001b[0;34m(\u001b[0m\u001b[0mthe_list\u001b[0m\u001b[0;34m,\u001b[0m \u001b[0mstart\u001b[0m\u001b[0;34m,\u001b[0m \u001b[0mpivot\u001b[0m \u001b[0;34m-\u001b[0m \u001b[0;36m1\u001b[0m\u001b[0;34m)\u001b[0m\u001b[0;34m\u001b[0m\u001b[0;34m\u001b[0m\u001b[0m\n\u001b[0m\u001b[1;32m     45\u001b[0m     \u001b[0mquicksort_sublist\u001b[0m\u001b[0;34m(\u001b[0m\u001b[0mthe_list\u001b[0m\u001b[0;34m,\u001b[0m \u001b[0mpivot\u001b[0m \u001b[0;34m+\u001b[0m \u001b[0;36m1\u001b[0m\u001b[0;34m,\u001b[0m \u001b[0mend\u001b[0m\u001b[0;34m)\u001b[0m\u001b[0;34m\u001b[0m\u001b[0;34m\u001b[0m\u001b[0m\n\u001b[1;32m     46\u001b[0m \u001b[0;34m\u001b[0m\u001b[0m\n",
            "\u001b[0;31mRecursionError\u001b[0m: maximum recursion depth exceeded in comparison"
          ]
        }
      ]
    },
    {
      "metadata": {
        "id": "FuYh5T0S8CAZ",
        "colab_type": "code",
        "colab": {}
      },
      "cell_type": "code",
      "source": [
        "def selection_sort(the_list):\n",
        "\n",
        "    for i in range(len(the_list)):\n",
        "\n",
        "        # Run through the unsorted elements in the input, finding\n",
        "        # the smallest one.\n",
        "        smallest_index = i\n",
        "        for j in range(i + 1, len(the_list)):\n",
        "            if the_list[j] < the_list[smallest_index]:\n",
        "                smallest_index = j\n",
        "\n",
        "        # Move the smallest element to the front of the unsorted portion\n",
        "        # of the input (swapping with whatever's already there).\n",
        "        the_list[i], the_list[smallest_index] = the_list[smallest_index], the_list[i]"
      ],
      "execution_count": 0,
      "outputs": []
    },
    {
      "metadata": {
        "id": "D8ue7rgC8H_k",
        "colab_type": "code",
        "colab": {
          "base_uri": "https://localhost:8080/",
          "height": 51
        },
        "outputId": "27a4068b-9eda-4fcf-ff73-d22969885604"
      },
      "cell_type": "code",
      "source": [
        "# Test on short list.\n",
        "# Start timer.\n",
        "start_time = time.time()\n",
        "\n",
        "# Run our selection sort.\n",
        "selection_sort(short_list)\n",
        "\n",
        "# Print time to show runtime.\n",
        "print(\"--- %s seconds ---\" % (time.time() - start_time))\n",
        "print(insert_sort(short_list))"
      ],
      "execution_count": 37,
      "outputs": [
        {
          "output_type": "stream",
          "text": [
            "--- 6.67572021484375e-05 seconds ---\n",
            "[152745, 183236, 366725, 412125, 477025, 481850, 739784, 767514, 808225, 997948]\n"
          ],
          "name": "stdout"
        }
      ]
    },
    {
      "metadata": {
        "id": "eo-uViA_8Spe",
        "colab_type": "code",
        "colab": {
          "base_uri": "https://localhost:8080/",
          "height": 51
        },
        "outputId": "c1eb71af-d4cb-4b2b-fa13-b3f48d04c3d1"
      },
      "cell_type": "code",
      "source": [
        "# Test on short list.\n",
        "# Start timer.\n",
        "start_time = time.time()\n",
        "\n",
        "# Run our selection sort.\n",
        "selection_sort(long_list)\n",
        "\n",
        "# Print time to show runtime.\n",
        "print(\"--- %s seconds ---\" % (time.time() - start_time))\n",
        "print(insert_sort(short_list))"
      ],
      "execution_count": 39,
      "outputs": [
        {
          "output_type": "stream",
          "text": [
            "--- 5.206121444702148 seconds ---\n",
            "[152745, 183236, 366725, 412125, 477025, 481850, 739784, 767514, 808225, 997948]\n"
          ],
          "name": "stdout"
        }
      ]
    }
  ]
}